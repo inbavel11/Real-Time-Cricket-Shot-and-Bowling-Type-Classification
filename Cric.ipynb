import cv2
import numpy as np
import mediapipe as mp
import time

# Initialize Pose Estimation
mp_pose = mp.solutions.pose
pose = mp_pose.Pose()

# Load Video
cap = cv2.VideoCapture("cricket_video.mp4")

# Video Writer
frame_width = int(cap.get(3))
frame_height = int(cap.get(4))
fps = int(cap.get(cv2.CAP_PROP_FPS))
out = cv2.VideoWriter('cricket_output.mp4', cv2.VideoWriter_fourcc(*'mp4v'), fps, (frame_width, frame_height))

# Ball Detection Parameters
ball_lower = np.array([0, 120, 120])
ball_upper = np.array([10, 255, 255])

# Variables for Ball Tracking
prev_positions = []
pitch_detected = False
shot_detected = False
freeze_start = None
bowler_stand = "Unknown"
bowling_type = "Unknown"

while cap.isOpened():
    ret, frame = cap.read()
    if not ret:
        break

    # Convert to HSV for ball detection
    hsv = cv2.cvtColor(frame, cv2.COLOR_BGR2HSV)
    mask = cv2.inRange(hsv, ball_lower, ball_upper)

    # Find Ball Contour
    contours, _ = cv2.findContours(mask, cv2.RETR_EXTERNAL, cv2.CHAIN_APPROX_SIMPLE)
    if contours:
        largest_contour = max(contours, key=cv2.contourArea)
        (x, y), radius = cv2.minEnclosingCircle(largest_contour)
        
        if radius > 5:
            cv2.circle(frame, (int(x), int(y)), int(radius), (0, 255, 0), 2)
            prev_positions.append((x, y))
            
            if len(prev_positions) > 10:
                prev_positions.pop(0)
                dx = prev_positions[-1][0] - prev_positions[0][0]
                dy = prev_positions[-1][1] - prev_positions[0][1]
                
                if dy > 20:  # Downward movement
                    if dx > 10:
                        bowl_type = "Outswing"
                    elif dx < -10:
                        bowl_type = "Inswing"
                    else:
                        bowl_type = "Cutter"
                elif dy < -20:
                    bowl_type = "Bouncer"
                else:
                    bowl_type = "Yorker"
            else:
                bowl_type = "Unknown"
            
            # Determine Bowling Type
            if radius > 10:
                bowling_type = "Pace"
            else:
                bowling_type = "Spin"
            
            # Freeze at ball pitch moment
            if not pitch_detected and y > frame_height * 0.7:
                pitch_detected = True
                freeze_start = time.time()
                cv2.putText(frame, "Ball Pitched!", (200, 250), cv2.FONT_HERSHEY_SIMPLEX, 2, (0, 0, 255), 3)
                out.write(frame)
                time.sleep(2)
    
    # Pose Detection for Shot Classification
    frame_rgb = cv2.cvtColor(frame, cv2.COLOR_BGR2RGB)
    results = pose.process(frame_rgb)

    if results.pose_landmarks:
        landmarks = results.pose_landmarks.landmark
        
        bowler_x = landmarks[mp_pose.PoseLandmark.LEFT_SHOULDER].x
        if bowler_x < 0.5:
            bowler_stand = "Over the Wicket"
        else:
            bowler_stand = "Around the Wicket"
        
        bat_x = landmarks[mp_pose.PoseLandmark.RIGHT_WRIST].x
        bat_y = landmarks[mp_pose.PoseLandmark.RIGHT_WRIST].y

        if bat_y < 0.4 and bat_x < 0.5:
            shot_type = "Cut Shot"
        elif bat_x > 0.6 and bat_y < 0.5:
            shot_type = "Cover Drive"
        elif 0.4 < bat_x < 0.6 and bat_y < 0.5:
            shot_type = "Off Drive"
        elif bat_x > 0.5 and bat_y > 0.6:
            shot_type = "On Drive"
        elif bat_x < 0.5 and bat_y > 0.6:
            shot_type = "Pull Shot"
        elif bat_x < 0.4 and bat_y > 0.7:
            shot_type = "Sweep Shot"
        else:
            shot_type = "Unknown Shot"

        if not shot_detected and shot_type != "Unknown Shot":
            shot_detected = True
            freeze_start = time.time()
            cv2.putText(frame, "Shot Played!", (200, 250), cv2.FONT_HERSHEY_SIMPLEX, 2, (255, 255, 0), 3)
            out.write(frame)
            time.sleep(2)
    
    # Display Bowler's Stand, Type, Bowling Type, and Shot
    cv2.putText(frame, f"Bowler Stand: {bowler_stand}", (50, 50), cv2.FONT_HERSHEY_SIMPLEX, 1, (0, 255, 255), 2)
    cv2.putText(frame, f"Bowling: {bowl_type}", (50, 100), cv2.FONT_HERSHEY_SIMPLEX, 1, (255, 255, 0), 2)
    cv2.putText(frame, f"Bowling Type: {bowling_type}", (50, 150), cv2.FONT_HERSHEY_SIMPLEX, 1, (0, 255, 0), 2)
    cv2.putText(frame, f"Shot: {shot_type}", (50, 200), cv2.FONT_HERSHEY_SIMPLEX, 1, (0, 255, 255), 2)

    # Write Frame to Output Video
    out.write(frame)

    # Show Output
    cv2.imshow("Cricket Analysis", frame)
    if cv2.waitKey(10) & 0xFF == ord('q'):
        break

# Release Resources
cap.release()
out.release()
cv2.destroyAllWindows()
